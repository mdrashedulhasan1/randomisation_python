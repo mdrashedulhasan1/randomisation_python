{
  "nbformat": 4,
  "nbformat_minor": 0,
  "metadata": {
    "colab": {
      "name": "Randomisation_Python.ipynb",
      "provenance": [],
      "authorship_tag": "ABX9TyP1pBbi5Rqxbaz/4C284Wdt",
      "include_colab_link": true
    },
    "kernelspec": {
      "name": "python3",
      "display_name": "Python 3"
    },
    "language_info": {
      "name": "python"
    }
  },
  "cells": [
    {
      "cell_type": "markdown",
      "metadata": {
        "id": "view-in-github",
        "colab_type": "text"
      },
      "source": [
        "<a href=\"https://colab.research.google.com/github/mdrashedulhasan1/randomisation_python/blob/main/Randomisation_Python.ipynb\" target=\"_parent\"><img src=\"https://colab.research.google.com/assets/colab-badge.svg\" alt=\"Open In Colab\"/></a>"
      ]
    },
    {
      "cell_type": "code",
      "execution_count": 26,
      "metadata": {
        "colab": {
          "base_uri": "https://localhost:8080/"
        },
        "id": "RwtbbldW-YCY",
        "outputId": "52814f1b-e78b-488a-b751-967d2da409b7"
      },
      "outputs": [
        {
          "output_type": "stream",
          "name": "stdout",
          "text": [
            "Tails\n"
          ]
        }
      ],
      "source": [
        " import random\n",
        "# print(random.randint(1,10)) \n",
        "\n",
        "# random_float = random.random()*5\n",
        "# print(random_float)\n",
        "\n",
        "# random_float2 = random.uniform(1,10)\n",
        "# print(random_float2)\n",
        "\n",
        "# love_score = random.randint(1,100)\n",
        "# print(love_score)\n",
        "\n",
        "# random_side = random.randint(0,1)\n",
        "# if random_side == 1:\n",
        "#   print(\"Heads\")\n",
        "# else:\n",
        "#   print(\"Tails\")"
      ]
    },
    {
      "cell_type": "code",
      "source": [
        "ages = [12, 23, 45, 56, 23]\n",
        "# print(ages[0],ages[1],ages[2],ages[3],ages[4])\n",
        "ages[0] = 13\n",
        "print(ages)\n",
        "ages.append(55)\n",
        "print(ages)"
      ],
      "metadata": {
        "id": "k73lEjPuIX3p",
        "outputId": "b504950b-c67f-4bbf-9a5b-1b28217ef061",
        "colab": {
          "base_uri": "https://localhost:8080/"
        }
      },
      "execution_count": 47,
      "outputs": [
        {
          "output_type": "stream",
          "name": "stdout",
          "text": [
            "[13, 23, 45, 56, 23]\n",
            "[13, 23, 45, 56, 23, 55]\n"
          ]
        }
      ]
    },
    {
      "cell_type": "code",
      "source": [
        "# Who will pay bill\n",
        "import random\n",
        "names = input(\"Give me everybody's names:\")\n",
        "names = names.split(\" \")\n",
        "num_items = len(names)\n",
        "random_choice = random.randint(0, num_items-1)\n",
        "person_who_pay_bill = names[random_choice]\n",
        "print(person_who_pay_bill,\"paying person\")"
      ],
      "metadata": {
        "id": "Grz4AilnMfkA",
        "outputId": "4978ae94-accb-4e73-de65-e65b31f91ba4",
        "colab": {
          "base_uri": "https://localhost:8080/"
        }
      },
      "execution_count": 59,
      "outputs": [
        {
          "output_type": "stream",
          "name": "stdout",
          "text": [
            "Give me everybody's names:tapu rashedul hasan\n",
            "hasan paying person\n"
          ]
        }
      ]
    },
    {
      "cell_type": "code",
      "source": [
        "names = [\"tapu\", \"rashedul\", \"Hasan\"]\n",
        "names.append(\"Hira\")\n",
        "print(names)\n"
      ],
      "metadata": {
        "id": "iNze3LLwK54C",
        "outputId": "68c30aea-d9a1-47fc-b75d-c920a908a208",
        "colab": {
          "base_uri": "https://localhost:8080/"
        }
      },
      "execution_count": 41,
      "outputs": [
        {
          "output_type": "stream",
          "name": "stdout",
          "text": [
            "['tapu', 'rashedul', 'Hasan', 'Hira']\n"
          ]
        }
      ]
    }
  ]
}