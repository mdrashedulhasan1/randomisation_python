{
  "nbformat": 4,
  "nbformat_minor": 0,
  "metadata": {
    "colab": {
      "name": "Randomisation_Python.ipynb",
      "provenance": [],
      "authorship_tag": "ABX9TyM6xxYwU1OXs+GWE5YIyD0k",
      "include_colab_link": true
    },
    "kernelspec": {
      "name": "python3",
      "display_name": "Python 3"
    },
    "language_info": {
      "name": "python"
    }
  },
  "cells": [
    {
      "cell_type": "markdown",
      "metadata": {
        "id": "view-in-github",
        "colab_type": "text"
      },
      "source": [
        "<a href=\"https://colab.research.google.com/github/mdrashedulhasan1/randomisation_python/blob/main/Randomisation_Python.ipynb\" target=\"_parent\"><img src=\"https://colab.research.google.com/assets/colab-badge.svg\" alt=\"Open In Colab\"/></a>"
      ]
    },
    {
      "cell_type": "code",
      "execution_count": null,
      "metadata": {
        "colab": {
          "base_uri": "https://localhost:8080/"
        },
        "id": "RwtbbldW-YCY",
        "outputId": "52814f1b-e78b-488a-b751-967d2da409b7"
      },
      "outputs": [
        {
          "output_type": "stream",
          "name": "stdout",
          "text": [
            "Tails\n"
          ]
        }
      ],
      "source": [
        " import random\n",
        "# print(random.randint(1,10)) \n",
        "\n",
        "# random_float = random.random()*5\n",
        "# print(random_float)\n",
        "\n",
        "# random_float2 = random.uniform(1,10)\n",
        "# print(random_float2)\n",
        "\n",
        "# love_score = random.randint(1,100)\n",
        "# print(love_score)\n",
        "\n",
        "# random_side = random.randint(0,1)\n",
        "# if random_side == 1:\n",
        "#   print(\"Heads\")\n",
        "# else:\n",
        "#   print(\"Tails\")"
      ]
    },
    {
      "cell_type": "code",
      "source": [
        "ages = [12, 23, 45, 56, 23]\n",
        "# print(ages[0],ages[1],ages[2],ages[3],ages[4])\n",
        "ages[0] = 13\n",
        "print(ages)\n",
        "ages.append(55)\n",
        "print(ages)"
      ],
      "metadata": {
        "id": "k73lEjPuIX3p",
        "outputId": "b504950b-c67f-4bbf-9a5b-1b28217ef061",
        "colab": {
          "base_uri": "https://localhost:8080/"
        }
      },
      "execution_count": null,
      "outputs": [
        {
          "output_type": "stream",
          "name": "stdout",
          "text": [
            "[13, 23, 45, 56, 23]\n",
            "[13, 23, 45, 56, 23, 55]\n"
          ]
        }
      ]
    },
    {
      "cell_type": "code",
      "source": [
        "# Who will pay bill\n",
        "import random\n",
        "names = input(\"Give me everybody's names:\")\n",
        "names = names.split(\" \")\n",
        "num_items = len(names)\n",
        "random_choice = random.randint(0, num_items-1)\n",
        "person_who_pay_bill = names[random_choice]\n",
        "print(person_who_pay_bill,\"paying person\")"
      ],
      "metadata": {
        "id": "Grz4AilnMfkA",
        "outputId": "4978ae94-accb-4e73-de65-e65b31f91ba4",
        "colab": {
          "base_uri": "https://localhost:8080/"
        }
      },
      "execution_count": null,
      "outputs": [
        {
          "output_type": "stream",
          "name": "stdout",
          "text": [
            "Give me everybody's names:tapu rashedul hasan\n",
            "hasan paying person\n"
          ]
        }
      ]
    },
    {
      "cell_type": "code",
      "source": [
        "names = [\"tapu\", \"rashedul\", \"Hasan\"]\n",
        "names.append(\"Hira\")\n",
        "print(names)\n"
      ],
      "metadata": {
        "id": "iNze3LLwK54C",
        "outputId": "68c30aea-d9a1-47fc-b75d-c920a908a208",
        "colab": {
          "base_uri": "https://localhost:8080/"
        }
      },
      "execution_count": null,
      "outputs": [
        {
          "output_type": "stream",
          "name": "stdout",
          "text": [
            "['tapu', 'rashedul', 'Hasan', 'Hira']\n"
          ]
        }
      ]
    },
    {
      "cell_type": "code",
      "source": [
        "row1 = [\"#\", \"#\", \"#\"]\n",
        "row2 = [\"#\", \"#\", \"#\"]\n",
        "row3 = [\"#\", \"#\", \"#\"]\n",
        "map = [row1, row2, row3]\n",
        "print(f\"{row1}\\n{row1}\\n{row3}\")\n",
        "pos = input(\"Where do you want to put the treasure?\")  #23\n",
        "horizontal = int(pos[0]) #2 \n",
        "vertical = int(pos[1]) #3\n",
        "\n",
        "map[vertical-1][horizontal-1] = \"X\"  #2-1=1  3-1=2  1,2\n",
        "print(f\"{row1}\\n{row1}\\n{row3}\")"
      ],
      "metadata": {
        "id": "9_-1rgpoVwEV",
        "outputId": "dcdf215f-8006-4bde-f218-c0ba569cbb7c",
        "colab": {
          "base_uri": "https://localhost:8080/"
        }
      },
      "execution_count": 3,
      "outputs": [
        {
          "output_type": "stream",
          "name": "stdout",
          "text": [
            "['#', '#', '#']\n",
            "['#', '#', '#']\n",
            "['#', '#', '#']\n",
            "Where do you want to put the treasure?23\n",
            "['#', '#', '#']\n",
            "['#', '#', '#']\n",
            "['#', 'X', '#']\n"
          ]
        }
      ]
    }
  ]
}